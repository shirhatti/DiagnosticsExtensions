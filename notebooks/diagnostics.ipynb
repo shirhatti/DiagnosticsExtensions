{
 "cells": [
  {
   "cell_type": "code",
   "execution_count": 1,
   "metadata": {},
   "source": [
    "#r \"nuget:Microsoft.Diagnostics.Runtime\""
   ],
   "outputs": [
    {
     "output_type": "execute_result",
     "data": {
      "text/plain": "Installed package Microsoft.Diagnostics.Runtime version 2.0.206203"
     },
     "execution_count": 1,
     "metadata": {}
    }
   ]
  },
  {
   "cell_type": "code",
   "execution_count": 1,
   "metadata": {},
   "source": [
    "using Microsoft.Diagnostics.Runtime;\n",
    "using System.Diagnostics;\n",
    "\n",
    "var dataTarget = DataTarget.LoadDump(\"./dump.dmp\");\n",
    "\n",
    "dataTarget"
   ],
   "outputs": [
    {
     "output_type": "execute_result",
     "data": {
      "text/html": "<table><thead><tr><th>DataReader</th><th>CacheOptions</th><th>BinaryLocator</th><th>ClrVersions</th></tr></thead><tbody><tr><td><div class=\"dni-plaintext\">Microsoft.Diagnostics.Runtime.MinidumpReader</div></td><td><div class=\"dni-plaintext\">Microsoft.Diagnostics.Runtime.CacheOptions</div></td><td><div class=\"dni-plaintext\">Microsoft.Diagnostics.Runtime.Implementation.SymbolServerLocator</div></td><td><div class=\"dni-plaintext\">[ 5.0.220.61120 ]</div></td></tr></tbody></table>"
     },
     "execution_count": 1,
     "metadata": {}
    }
   ]
  },
  {
   "cell_type": "code",
   "execution_count": 1,
   "metadata": {},
   "source": [
    "var runtime = dataTarget.ClrVersions[0].CreateRuntime();\n",
    "\n",
    "runtime.AppDomains"
   ],
   "outputs": [
    {
     "output_type": "execute_result",
     "data": {
      "text/html": "<table><thead><tr><th><i>index</i></th><th>Runtime</th><th>Address</th><th>Id</th><th>Name</th><th>Modules</th><th>ConfigurationFile</th><th>ApplicationBase</th></tr></thead><tbody><tr><td>0</td><td><div class=\"dni-plaintext\">Microsoft.Diagnostics.Runtime.Implementation.ClrmdRuntime</div></td><td><div class=\"dni-plaintext\">2664227802224</div></td><td><div class=\"dni-plaintext\">1</div></td><td><div class=\"dni-plaintext\">clrhost</div></td><td><div class=\"dni-plaintext\">[ C:\\Program Files\\dotnet\\shared\\Microsoft.NETCore.App\\5.0.2\\System.Private.CoreLib.dll, C:\\Users\\shirh\\source\\temp\\web50\\bin\\Debug\\net5.0\\web50.dll, C:\\Program Files\\dotnet\\shared\\Microsoft.NETCore.App\\5.0.2\\System.Runtime.dll, C:\\Program Files\\dotnet\\shared\\Microsoft.AspNetCore.App\\5.0.2\\Microsoft.Extensions.Hosting.Abstractions.dll, C:\\Program Files\\dotnet\\shared\\Microsoft.NETCore.App\\5.0.2\\netstandard.dll, C:\\Program Files\\dotnet\\shared\\Microsoft.AspNetCore.App\\5.0.2\\Microsoft.Extensions.Hosting.dll, C:\\Program Files\\dotnet\\shared\\Microsoft.AspNetCore.App\\5.0.2\\Microsoft.AspNetCore.Hosting.Abstractions.dll, C:\\Program Files\\dotnet\\shared\\Microsoft.AspNetCore.App\\5.0.2\\Microsoft.AspNetCore.dll, C:\\Program Files\\dotnet\\shared\\Microsoft.AspNetCore.App\\5.0.2\\Microsoft.Extensions.Configuration.Abstractions.dll, C:\\Program Files\\dotnet\\shared\\Microsoft.AspNetCore.App\\5.0.2\\Microsoft.Extensions.DependencyInjection.Abstractions.dll, C:\\Program Files\\dotnet\\shared\\Microsoft.AspNetCore.App\\5.0.2\\Microsoft.Extensions.DependencyInjection.dll, C:\\Program Files\\dotnet\\shared\\Microsoft.AspNetCore.App\\5.0.2\\Microsoft.Extensions.Logging.dll, C:\\Program Files\\dotnet\\shared\\Microsoft.NETCore.App\\5.0.2\\System.Collections.dll, C:\\Program Files\\dotnet\\shared\\Microsoft.NETCore.App\\5.0.2\\System.ComponentModel.dll, C:\\Program Files\\dotnet\\shared\\Microsoft.NETCore.App\\5.0.2\\System.IO.FileSystem.dll, C:\\Program Files\\dotnet\\shared\\Microsoft.AspNetCore.App\\5.0.2\\Microsoft.AspNetCore.Hosting.dll, C:\\Program Files\\dotnet\\shared\\Microsoft.AspNetCore.App\\5.0.2\\Microsoft.Extensions.Configuration.dll, C:\\Program Files\\dotnet\\shared\\Microsoft.AspNetCore.App\\5.0.2\\Microsoft.Extensions.Configuration.EnvironmentVariables.dll, C:\\Program Files\\dotnet\\shared\\Microsoft.AspNetCore.App\\5.0.2\\Microsoft.Extensions.Primitives.dll, C:\\Program Files\\dotnet\\shared\\Microsoft.NETCore.App\\5.0.2\\System.Threading.dll ... (83 more) ]</div></td><td><div class=\"dni-plaintext\">&lt;null&gt;</div></td><td><div class=\"dni-plaintext\">&lt;null&gt;</div></td></tr></tbody></table>"
     },
     "execution_count": 1,
     "metadata": {}
    }
   ]
  },
  {
   "cell_type": "code",
   "execution_count": 1,
   "metadata": {},
   "source": [
    "runtime.Threads"
   ],
   "outputs": [
    {
     "output_type": "execute_result",
     "data": {
      "text/html": "<table><thead><tr><th><i>index</i></th><th>Runtime</th><th>Address</th><th>IsFinalizer</th><th>GCMode</th><th>OSThreadId</th><th>ManagedThreadId</th><th>CurrentAppDomain</th><th>LockCount</th><th>StackBase</th><th>StackLimit</th><th>CurrentException</th><th>IsAborted</th><th>IsGCSuspendPending</th><th>IsUserSuspended</th><th>IsDebugSuspended</th><th>IsBackground</th><th>IsUnstarted</th><th>IsCoInitialized</th><th>IsSTA</th><th>IsMTA</th><th>..</th></tr></thead><tbody><tr><td>0</td><td><div class=\"dni-plaintext\">Microsoft.Diagnostics.Runtime.Implementation.ClrmdRuntime</div></td><td><div class=\"dni-plaintext\">2664227835904</div></td><td><div class=\"dni-plaintext\">False</div></td><td><span>Preemptive</span></td><td><div class=\"dni-plaintext\">19744</div></td><td><div class=\"dni-plaintext\">1</div></td><td><div class=\"dni-plaintext\">clrhost</div></td><td><div class=\"dni-plaintext\">4294967295</div></td><td><div class=\"dni-plaintext\">483301261312</div></td><td><div class=\"dni-plaintext\">483301187584</div></td><td><div class=\"dni-plaintext\">&lt;null&gt;</div></td><td><div class=\"dni-plaintext\">False</div></td><td><div class=\"dni-plaintext\">False</div></td><td><div class=\"dni-plaintext\">False</div></td><td><div class=\"dni-plaintext\">False</div></td><td><div class=\"dni-plaintext\">False</div></td><td><div class=\"dni-plaintext\">False</div></td><td><div class=\"dni-plaintext\">True</div></td><td><div class=\"dni-plaintext\">False</div></td><td><div class=\"dni-plaintext\">True</div></td></tr><tr><td>1</td><td><div class=\"dni-plaintext\">Microsoft.Diagnostics.Runtime.Implementation.ClrmdRuntime</div></td><td><div class=\"dni-plaintext\">2683754329088</div></td><td><div class=\"dni-plaintext\">True</div></td><td><span>Preemptive</span></td><td><div class=\"dni-plaintext\">26268</div></td><td><div class=\"dni-plaintext\">2</div></td><td><div class=\"dni-plaintext\">clrhost</div></td><td><div class=\"dni-plaintext\">4294967295</div></td><td><div class=\"dni-plaintext\">483319087104</div></td><td><div class=\"dni-plaintext\">483319054336</div></td><td><div class=\"dni-plaintext\">&lt;null&gt;</div></td><td><div class=\"dni-plaintext\">False</div></td><td><div class=\"dni-plaintext\">False</div></td><td><div class=\"dni-plaintext\">False</div></td><td><div class=\"dni-plaintext\">False</div></td><td><div class=\"dni-plaintext\">True</div></td><td><div class=\"dni-plaintext\">False</div></td><td><div class=\"dni-plaintext\">True</div></td><td><div class=\"dni-plaintext\">False</div></td><td><div class=\"dni-plaintext\">True</div></td></tr><tr><td>2</td><td><div class=\"dni-plaintext\">Microsoft.Diagnostics.Runtime.Implementation.ClrmdRuntime</div></td><td><div class=\"dni-plaintext\">2683754339360</div></td><td><div class=\"dni-plaintext\">False</div></td><td><span>Preemptive</span></td><td><div class=\"dni-plaintext\">16056</div></td><td><div class=\"dni-plaintext\">3</div></td><td><div class=\"dni-plaintext\">clrhost</div></td><td><div class=\"dni-plaintext\">4294967295</div></td><td><div class=\"dni-plaintext\">483319349248</div></td><td><div class=\"dni-plaintext\">483319336960</div></td><td><div class=\"dni-plaintext\">&lt;null&gt;</div></td><td><div class=\"dni-plaintext\">False</div></td><td><div class=\"dni-plaintext\">False</div></td><td><div class=\"dni-plaintext\">False</div></td><td><div class=\"dni-plaintext\">False</div></td><td><div class=\"dni-plaintext\">True</div></td><td><div class=\"dni-plaintext\">False</div></td><td><div class=\"dni-plaintext\">True</div></td><td><div class=\"dni-plaintext\">False</div></td><td><div class=\"dni-plaintext\">True</div></td></tr><tr><td>3</td><td><div class=\"dni-plaintext\">Microsoft.Diagnostics.Runtime.Implementation.ClrmdRuntime</div></td><td><div class=\"dni-plaintext\">2683754994256</div></td><td><div class=\"dni-plaintext\">False</div></td><td><span>Preemptive</span></td><td><div class=\"dni-plaintext\">29020</div></td><td><div class=\"dni-plaintext\">4</div></td><td><div class=\"dni-plaintext\">clrhost</div></td><td><div class=\"dni-plaintext\">4294967295</div></td><td><div class=\"dni-plaintext\">483320922112</div></td><td><div class=\"dni-plaintext\">483320877056</div></td><td><div class=\"dni-plaintext\">&lt;null&gt;</div></td><td><div class=\"dni-plaintext\">False</div></td><td><div class=\"dni-plaintext\">False</div></td><td><div class=\"dni-plaintext\">False</div></td><td><div class=\"dni-plaintext\">False</div></td><td><div class=\"dni-plaintext\">True</div></td><td><div class=\"dni-plaintext\">False</div></td><td><div class=\"dni-plaintext\">False</div></td><td><div class=\"dni-plaintext\">False</div></td><td><div class=\"dni-plaintext\">True</div></td></tr><tr><td>4</td><td><div class=\"dni-plaintext\">Microsoft.Diagnostics.Runtime.Implementation.ClrmdRuntime</div></td><td><div class=\"dni-plaintext\">2683755751568</div></td><td><div class=\"dni-plaintext\">False</div></td><td><span>Preemptive</span></td><td><div class=\"dni-plaintext\">32736</div></td><td><div class=\"dni-plaintext\">5</div></td><td><div class=\"dni-plaintext\">clrhost</div></td><td><div class=\"dni-plaintext\">4294967295</div></td><td><div class=\"dni-plaintext\">483322494976</div></td><td><div class=\"dni-plaintext\">483322454016</div></td><td><div class=\"dni-plaintext\">&lt;null&gt;</div></td><td><div class=\"dni-plaintext\">False</div></td><td><div class=\"dni-plaintext\">False</div></td><td><div class=\"dni-plaintext\">False</div></td><td><div class=\"dni-plaintext\">False</div></td><td><div class=\"dni-plaintext\">True</div></td><td><div class=\"dni-plaintext\">False</div></td><td><div class=\"dni-plaintext\">True</div></td><td><div class=\"dni-plaintext\">False</div></td><td><div class=\"dni-plaintext\">True</div></td></tr><tr><td>5</td><td><div class=\"dni-plaintext\">Microsoft.Diagnostics.Runtime.Implementation.ClrmdRuntime</div></td><td><div class=\"dni-plaintext\">2683755763984</div></td><td><div class=\"dni-plaintext\">False</div></td><td><span>Preemptive</span></td><td><div class=\"dni-plaintext\">0</div></td><td><div class=\"dni-plaintext\">6</div></td><td><div class=\"dni-plaintext\">clrhost</div></td><td><div class=\"dni-plaintext\">4294967295</div></td><td><div class=\"dni-plaintext\">0</div></td><td><div class=\"dni-plaintext\">0</div></td><td><div class=\"dni-plaintext\">&lt;null&gt;</div></td><td><div class=\"dni-plaintext\">False</div></td><td><div class=\"dni-plaintext\">False</div></td><td><div class=\"dni-plaintext\">False</div></td><td><div class=\"dni-plaintext\">False</div></td><td><div class=\"dni-plaintext\">False</div></td><td><div class=\"dni-plaintext\">False</div></td><td><div class=\"dni-plaintext\">False</div></td><td><div class=\"dni-plaintext\">False</div></td><td><div class=\"dni-plaintext\">True</div></td></tr><tr><td>6</td><td><div class=\"dni-plaintext\">Microsoft.Diagnostics.Runtime.Implementation.ClrmdRuntime</div></td><td><div class=\"dni-plaintext\">2683755742256</div></td><td><div class=\"dni-plaintext\">False</div></td><td><span>Preemptive</span></td><td><div class=\"dni-plaintext\">30580</div></td><td><div class=\"dni-plaintext\">7</div></td><td><div class=\"dni-plaintext\">clrhost</div></td><td><div class=\"dni-plaintext\">4294967295</div></td><td><div class=\"dni-plaintext\">483329048576</div></td><td><div class=\"dni-plaintext\">483328999424</div></td><td><div class=\"dni-plaintext\">&lt;null&gt;</div></td><td><div class=\"dni-plaintext\">False</div></td><td><div class=\"dni-plaintext\">False</div></td><td><div class=\"dni-plaintext\">False</div></td><td><div class=\"dni-plaintext\">False</div></td><td><div class=\"dni-plaintext\">True</div></td><td><div class=\"dni-plaintext\">False</div></td><td><div class=\"dni-plaintext\">True</div></td><td><div class=\"dni-plaintext\">False</div></td><td><div class=\"dni-plaintext\">True</div></td></tr><tr><td>7</td><td><div class=\"dni-plaintext\">Microsoft.Diagnostics.Runtime.Implementation.ClrmdRuntime</div></td><td><div class=\"dni-plaintext\">2683755746912</div></td><td><div class=\"dni-plaintext\">False</div></td><td><span>Preemptive</span></td><td><div class=\"dni-plaintext\">0</div></td><td><div class=\"dni-plaintext\">8</div></td><td><div class=\"dni-plaintext\">clrhost</div></td><td><div class=\"dni-plaintext\">4294967295</div></td><td><div class=\"dni-plaintext\">0</div></td><td><div class=\"dni-plaintext\">0</div></td><td><div class=\"dni-plaintext\">&lt;null&gt;</div></td><td><div class=\"dni-plaintext\">False</div></td><td><div class=\"dni-plaintext\">False</div></td><td><div class=\"dni-plaintext\">False</div></td><td><div class=\"dni-plaintext\">False</div></td><td><div class=\"dni-plaintext\">False</div></td><td><div class=\"dni-plaintext\">False</div></td><td><div class=\"dni-plaintext\">False</div></td><td><div class=\"dni-plaintext\">False</div></td><td><div class=\"dni-plaintext\">True</div></td></tr><tr><td>8</td><td><div class=\"dni-plaintext\">Microsoft.Diagnostics.Runtime.Implementation.ClrmdRuntime</div></td><td><div class=\"dni-plaintext\">2683755740704</div></td><td><div class=\"dni-plaintext\">False</div></td><td><span>Preemptive</span></td><td><div class=\"dni-plaintext\">23816</div></td><td><div class=\"dni-plaintext\">9</div></td><td><div class=\"dni-plaintext\">clrhost</div></td><td><div class=\"dni-plaintext\">4294967295</div></td><td><div class=\"dni-plaintext\">483327475712</div></td><td><div class=\"dni-plaintext\">483327422464</div></td><td><div class=\"dni-plaintext\">&lt;null&gt;</div></td><td><div class=\"dni-plaintext\">False</div></td><td><div class=\"dni-plaintext\">False</div></td><td><div class=\"dni-plaintext\">False</div></td><td><div class=\"dni-plaintext\">False</div></td><td><div class=\"dni-plaintext\">True</div></td><td><div class=\"dni-plaintext\">False</div></td><td><div class=\"dni-plaintext\">False</div></td><td><div class=\"dni-plaintext\">False</div></td><td><div class=\"dni-plaintext\">True</div></td></tr><tr><td>9</td><td><div class=\"dni-plaintext\">Microsoft.Diagnostics.Runtime.Implementation.ClrmdRuntime</div></td><td><div class=\"dni-plaintext\">2683756065120</div></td><td><div class=\"dni-plaintext\">False</div></td><td><span>Preemptive</span></td><td><div class=\"dni-plaintext\">0</div></td><td><div class=\"dni-plaintext\">10</div></td><td><div class=\"dni-plaintext\">clrhost</div></td><td><div class=\"dni-plaintext\">4294967295</div></td><td><div class=\"dni-plaintext\">0</div></td><td><div class=\"dni-plaintext\">0</div></td><td><div class=\"dni-plaintext\">&lt;null&gt;</div></td><td><div class=\"dni-plaintext\">False</div></td><td><div class=\"dni-plaintext\">False</div></td><td><div class=\"dni-plaintext\">False</div></td><td><div class=\"dni-plaintext\">False</div></td><td><div class=\"dni-plaintext\">False</div></td><td><div class=\"dni-plaintext\">False</div></td><td><div class=\"dni-plaintext\">False</div></td><td><div class=\"dni-plaintext\">False</div></td><td><div class=\"dni-plaintext\">True</div></td></tr><tr><td>10</td><td><div class=\"dni-plaintext\">Microsoft.Diagnostics.Runtime.Implementation.ClrmdRuntime</div></td><td><div class=\"dni-plaintext\">2683756071328</div></td><td><div class=\"dni-plaintext\">False</div></td><td><span>Preemptive</span></td><td><div class=\"dni-plaintext\">0</div></td><td><div class=\"dni-plaintext\">11</div></td><td><div class=\"dni-plaintext\">clrhost</div></td><td><div class=\"dni-plaintext\">4294967295</div></td><td><div class=\"dni-plaintext\">0</div></td><td><div class=\"dni-plaintext\">0</div></td><td><div class=\"dni-plaintext\">&lt;null&gt;</div></td><td><div class=\"dni-plaintext\">False</div></td><td><div class=\"dni-plaintext\">False</div></td><td><div class=\"dni-plaintext\">False</div></td><td><div class=\"dni-plaintext\">False</div></td><td><div class=\"dni-plaintext\">False</div></td><td><div class=\"dni-plaintext\">False</div></td><td><div class=\"dni-plaintext\">False</div></td><td><div class=\"dni-plaintext\">False</div></td><td><div class=\"dni-plaintext\">True</div></td></tr><tr><td>11</td><td><div class=\"dni-plaintext\">Microsoft.Diagnostics.Runtime.Implementation.ClrmdRuntime</div></td><td><div class=\"dni-plaintext\">2683755913872</div></td><td><div class=\"dni-plaintext\">False</div></td><td><span>Preemptive</span></td><td><div class=\"dni-plaintext\">0</div></td><td><div class=\"dni-plaintext\">12</div></td><td><div class=\"dni-plaintext\">clrhost</div></td><td><div class=\"dni-plaintext\">4294967295</div></td><td><div class=\"dni-plaintext\">0</div></td><td><div class=\"dni-plaintext\">0</div></td><td><div class=\"dni-plaintext\">&lt;null&gt;</div></td><td><div class=\"dni-plaintext\">False</div></td><td><div class=\"dni-plaintext\">False</div></td><td><div class=\"dni-plaintext\">False</div></td><td><div class=\"dni-plaintext\">False</div></td><td><div class=\"dni-plaintext\">False</div></td><td><div class=\"dni-plaintext\">False</div></td><td><div class=\"dni-plaintext\">False</div></td><td><div class=\"dni-plaintext\">False</div></td><td><div class=\"dni-plaintext\">True</div></td></tr><tr><td>12</td><td><div class=\"dni-plaintext\">Microsoft.Diagnostics.Runtime.Implementation.ClrmdRuntime</div></td><td><div class=\"dni-plaintext\">2683755932496</div></td><td><div class=\"dni-plaintext\">False</div></td><td><span>Preemptive</span></td><td><div class=\"dni-plaintext\">16188</div></td><td><div class=\"dni-plaintext\">13</div></td><td><div class=\"dni-plaintext\">clrhost</div></td><td><div class=\"dni-plaintext\">4294967295</div></td><td><div class=\"dni-plaintext\">483325902848</div></td><td><div class=\"dni-plaintext\">483325894656</div></td><td><div class=\"dni-plaintext\">&lt;null&gt;</div></td><td><div class=\"dni-plaintext\">False</div></td><td><div class=\"dni-plaintext\">False</div></td><td><div class=\"dni-plaintext\">False</div></td><td><div class=\"dni-plaintext\">False</div></td><td><div class=\"dni-plaintext\">True</div></td><td><div class=\"dni-plaintext\">False</div></td><td><div class=\"dni-plaintext\">False</div></td><td><div class=\"dni-plaintext\">False</div></td><td><div class=\"dni-plaintext\">True</div></td></tr><tr><td>13</td><td><div class=\"dni-plaintext\">Microsoft.Diagnostics.Runtime.Implementation.ClrmdRuntime</div></td><td><div class=\"dni-plaintext\">2683755923184</div></td><td><div class=\"dni-plaintext\">False</div></td><td><span>Preemptive</span></td><td><div class=\"dni-plaintext\">23164</div></td><td><div class=\"dni-plaintext\">14</div></td><td><div class=\"dni-plaintext\">clrhost</div></td><td><div class=\"dni-plaintext\">4294967295</div></td><td><div class=\"dni-plaintext\">483332194304</div></td><td><div class=\"dni-plaintext\">483332153344</div></td><td><div class=\"dni-plaintext\">&lt;null&gt;</div></td><td><div class=\"dni-plaintext\">False</div></td><td><div class=\"dni-plaintext\">False</div></td><td><div class=\"dni-plaintext\">False</div></td><td><div class=\"dni-plaintext\">False</div></td><td><div class=\"dni-plaintext\">True</div></td><td><div class=\"dni-plaintext\">False</div></td><td><div class=\"dni-plaintext\">False</div></td><td><div class=\"dni-plaintext\">False</div></td><td><div class=\"dni-plaintext\">True</div></td></tr><tr><td>14</td><td><div class=\"dni-plaintext\">Microsoft.Diagnostics.Runtime.Implementation.ClrmdRuntime</div></td><td><div class=\"dni-plaintext\">2683755944912</div></td><td><div class=\"dni-plaintext\">False</div></td><td><span>Preemptive</span></td><td><div class=\"dni-plaintext\">2868</div></td><td><div class=\"dni-plaintext\">15</div></td><td><div class=\"dni-plaintext\">clrhost</div></td><td><div class=\"dni-plaintext\">4294967295</div></td><td><div class=\"dni-plaintext\">483333767168</div></td><td><div class=\"dni-plaintext\">483333754880</div></td><td><div class=\"dni-plaintext\">&lt;null&gt;</div></td><td><div class=\"dni-plaintext\">False</div></td><td><div class=\"dni-plaintext\">False</div></td><td><div class=\"dni-plaintext\">False</div></td><td><div class=\"dni-plaintext\">False</div></td><td><div class=\"dni-plaintext\">True</div></td><td><div class=\"dni-plaintext\">False</div></td><td><div class=\"dni-plaintext\">False</div></td><td><div class=\"dni-plaintext\">False</div></td><td><div class=\"dni-plaintext\">True</div></td></tr><tr><td>15</td><td><div class=\"dni-plaintext\">Microsoft.Diagnostics.Runtime.Implementation.ClrmdRuntime</div></td><td><div class=\"dni-plaintext\">2683755930944</div></td><td><div class=\"dni-plaintext\">False</div></td><td><span>Preemptive</span></td><td><div class=\"dni-plaintext\">0</div></td><td><div class=\"dni-plaintext\">16</div></td><td><div class=\"dni-plaintext\">clrhost</div></td><td><div class=\"dni-plaintext\">4294967295</div></td><td><div class=\"dni-plaintext\">0</div></td><td><div class=\"dni-plaintext\">0</div></td><td><div class=\"dni-plaintext\">&lt;null&gt;</div></td><td><div class=\"dni-plaintext\">False</div></td><td><div class=\"dni-plaintext\">False</div></td><td><div class=\"dni-plaintext\">False</div></td><td><div class=\"dni-plaintext\">False</div></td><td><div class=\"dni-plaintext\">False</div></td><td><div class=\"dni-plaintext\">False</div></td><td><div class=\"dni-plaintext\">False</div></td><td><div class=\"dni-plaintext\">False</div></td><td><div class=\"dni-plaintext\">True</div></td></tr><tr><td>16</td><td><div class=\"dni-plaintext\">Microsoft.Diagnostics.Runtime.Implementation.ClrmdRuntime</div></td><td><div class=\"dni-plaintext\">2683755915424</div></td><td><div class=\"dni-plaintext\">False</div></td><td><span>Preemptive</span></td><td><div class=\"dni-plaintext\">25764</div></td><td><div class=\"dni-plaintext\">17</div></td><td><div class=\"dni-plaintext\">clrhost</div></td><td><div class=\"dni-plaintext\">4294967295</div></td><td><div class=\"dni-plaintext\">483336912896</div></td><td><div class=\"dni-plaintext\">483336871936</div></td><td><div class=\"dni-plaintext\">&lt;null&gt;</div></td><td><div class=\"dni-plaintext\">False</div></td><td><div class=\"dni-plaintext\">False</div></td><td><div class=\"dni-plaintext\">False</div></td><td><div class=\"dni-plaintext\">False</div></td><td><div class=\"dni-plaintext\">True</div></td><td><div class=\"dni-plaintext\">False</div></td><td><div class=\"dni-plaintext\">False</div></td><td><div class=\"dni-plaintext\">False</div></td><td><div class=\"dni-plaintext\">True</div></td></tr><tr><td>17</td><td><div class=\"dni-plaintext\">Microsoft.Diagnostics.Runtime.Implementation.ClrmdRuntime</div></td><td><div class=\"dni-plaintext\">2683755934048</div></td><td><div class=\"dni-plaintext\">False</div></td><td><span>Preemptive</span></td><td><div class=\"dni-plaintext\">32636</div></td><td><div class=\"dni-plaintext\">18</div></td><td><div class=\"dni-plaintext\">clrhost</div></td><td><div class=\"dni-plaintext\">4294967295</div></td><td><div class=\"dni-plaintext\">483338485760</div></td><td><div class=\"dni-plaintext\">483338473472</div></td><td><div class=\"dni-plaintext\">&lt;null&gt;</div></td><td><div class=\"dni-plaintext\">False</div></td><td><div class=\"dni-plaintext\">False</div></td><td><div class=\"dni-plaintext\">False</div></td><td><div class=\"dni-plaintext\">False</div></td><td><div class=\"dni-plaintext\">True</div></td><td><div class=\"dni-plaintext\">False</div></td><td><div class=\"dni-plaintext\">False</div></td><td><div class=\"dni-plaintext\">False</div></td><td><div class=\"dni-plaintext\">True</div></td></tr><tr><td>18</td><td><div class=\"dni-plaintext\">Microsoft.Diagnostics.Runtime.Implementation.ClrmdRuntime</div></td><td><div class=\"dni-plaintext\">2683755926288</div></td><td><div class=\"dni-plaintext\">False</div></td><td><span>Preemptive</span></td><td><div class=\"dni-plaintext\">30188</div></td><td><div class=\"dni-plaintext\">19</div></td><td><div class=\"dni-plaintext\">clrhost</div></td><td><div class=\"dni-plaintext\">4294967295</div></td><td><div class=\"dni-plaintext\">483340058624</div></td><td><div class=\"dni-plaintext\">483340001280</div></td><td><div class=\"dni-plaintext\">&lt;null&gt;</div></td><td><div class=\"dni-plaintext\">False</div></td><td><div class=\"dni-plaintext\">False</div></td><td><div class=\"dni-plaintext\">False</div></td><td><div class=\"dni-plaintext\">False</div></td><td><div class=\"dni-plaintext\">True</div></td><td><div class=\"dni-plaintext\">False</div></td><td><div class=\"dni-plaintext\">False</div></td><td><div class=\"dni-plaintext\">False</div></td><td><div class=\"dni-plaintext\">True</div></td></tr><tr><td>19</td><td><div class=\"dni-plaintext\">Microsoft.Diagnostics.Runtime.Implementation.ClrmdRuntime</div></td><td><div class=\"dni-plaintext\">2683755920080</div></td><td><div class=\"dni-plaintext\">False</div></td><td><span>Preemptive</span></td><td><div class=\"dni-plaintext\">24092</div></td><td><div class=\"dni-plaintext\">20</div></td><td><div class=\"dni-plaintext\">clrhost</div></td><td><div class=\"dni-plaintext\">4294967295</div></td><td><div class=\"dni-plaintext\">483341631488</div></td><td><div class=\"dni-plaintext\">483341586432</div></td><td><div class=\"dni-plaintext\">&lt;null&gt;</div></td><td><div class=\"dni-plaintext\">False</div></td><td><div class=\"dni-plaintext\">False</div></td><td><div class=\"dni-plaintext\">False</div></td><td><div class=\"dni-plaintext\">False</div></td><td><div class=\"dni-plaintext\">True</div></td><td><div class=\"dni-plaintext\">False</div></td><td><div class=\"dni-plaintext\">False</div></td><td><div class=\"dni-plaintext\">False</div></td><td><div class=\"dni-plaintext\">True</div></td></tr><tr><td colspan=\"22\">(33 more)</td></tr></tbody></table>"
     },
     "execution_count": 1,
     "metadata": {}
    }
   ]
  },
  {
   "cell_type": "code",
   "execution_count": 1,
   "metadata": {},
   "source": [
    "var heap = runtime.Heap;\n",
    "var appDomain = runtime.AppDomains[0];\n",
    "\n",
    "private ClrModule GetModuleByName(ClrRuntime runtime, string name)\n",
    "{\n",
    "    var modules = runtime.AppDomains[0].Modules;\n",
    "    foreach (ClrModule module in modules)\n",
    "    {\n",
    "        if (module.AssemblyName.Contains(name))\n",
    "        {\n",
    "            return module;\n",
    "        }\n",
    "    }\n",
    "\n",
    "    return null;\n",
    "}"
   ],
   "outputs": []
  },
  {
   "cell_type": "code",
   "execution_count": 1,
   "metadata": {},
   "source": [
    "var hostingEventSourceType = GetModuleByName(runtime, \"Microsoft.AspNetCore.Hosting.dll\").GetTypeByName(\"Microsoft.AspNetCore.Hosting.HostingEventSource\");\n",
    "var log = hostingEventSourceType.GetStaticFieldByName(\"Log\").ReadObject(appDomain);\n",
    "\n",
    "// _totalRequests, _currentRequests, _failedRequests\n",
    "var totalRequests = log.ReadValueTypeField(\"_totalRequests\").ReadField<int>(\"m_value\");\n",
    "var currentRequests = log.ReadValueTypeField(\"_currentRequests\").ReadField<int>(\"m_value\");\n",
    "var failedRequests = log.ReadValueTypeField(\"_failedRequests\").ReadField<int>(\"m_value\");\n",
    "\n",
    "display($\"Total Requests: {totalRequests}\");\n",
    "display($\"Current Requests: {currentRequests}\");\n",
    "display($\"Failed Requests: {failedRequests}\");\n",
    ""
   ],
   "outputs": [
    {
     "output_type": "execute_result",
     "data": {
      "text/plain": "Total Requests: 0"
     },
     "execution_count": 1,
     "metadata": {}
    },
    {
     "output_type": "execute_result",
     "data": {
      "text/plain": "Current Requests: 0"
     },
     "execution_count": 1,
     "metadata": {}
    },
    {
     "output_type": "execute_result",
     "data": {
      "text/plain": "Failed Requests: 0"
     },
     "execution_count": 1,
     "metadata": {}
    }
   ]
  },
  {
   "cell_type": "code",
   "execution_count": 1,
   "metadata": {},
   "source": [
    "var kestrelEventSourceType = GetModuleByName(runtime, \"Microsoft.AspNetCore.Server.Kestrel.Core.dll\").GetTypeByName(\"Microsoft.AspNetCore.Server.Kestrel.Core.Internal.Infrastructure.KestrelEventSource\");\n",
    "var log = kestrelEventSourceType.GetStaticFieldByName(\"Log\").ReadObject(appDomain);\n",
    "\n",
    "var totalConnections = log.ReadValueTypeField(\"_totalConnections\").ReadField<int>(\"m_value\");\n",
    "var currentConnections = log.ReadValueTypeField(\"_currentConnections\").ReadField<int>(\"m_value\");\n",
    "var connectionQueueLength = log.ReadValueTypeField(\"_connectionQueueLength\").ReadField<int>(\"m_value\");\n",
    "var totalTlsHandshakes = log.ReadValueTypeField(\"_totalTlsHandshakes\").ReadField<int>(\"m_value\");\n",
    "var currentTlsHandshakes = log.ReadValueTypeField(\"_currentTlsHandshakes\").ReadField<int>(\"m_value\");\n",
    "var failedTlsHandshakes = log.ReadValueTypeField(\"_failedTlsHandshakes\").ReadField<int>(\"m_value\");\n",
    "var httpRequestQueueLength = log.ReadValueTypeField(\"_httpRequestQueueLength\").ReadField<int>(\"m_value\");\n",
    "var currentUpgradedHttpRequests = log.ReadValueTypeField(\"_currentUpgradedHttpRequests\").ReadField<int>(\"m_value\");\n",
    "\n",
    "\n",
    "display($\"{nameof(totalConnections)}: {totalConnections}\");\n",
    "display($\"{nameof(currentConnections)}: {currentConnections}\");\n",
    "display($\"{nameof(connectionQueueLength)}: {connectionQueueLength}\");\n",
    "display($\"{nameof(totalTlsHandshakes)}: {totalTlsHandshakes}\");\n",
    "display($\"{nameof(currentTlsHandshakes)}: {currentTlsHandshakes}\");\n",
    "display($\"{nameof(failedTlsHandshakes)}: {failedTlsHandshakes}\");\n",
    "display($\"{nameof(httpRequestQueueLength)}: {httpRequestQueueLength}\");\n",
    "display($\"{nameof(currentUpgradedHttpRequests)}: {currentUpgradedHttpRequests}\");"
   ],
   "outputs": [
    {
     "output_type": "execute_result",
     "data": {
      "text/plain": "totalConnections: 6401"
     },
     "execution_count": 1,
     "metadata": {}
    },
    {
     "output_type": "execute_result",
     "data": {
      "text/plain": "currentConnections: 543"
     },
     "execution_count": 1,
     "metadata": {}
    },
    {
     "output_type": "execute_result",
     "data": {
      "text/plain": "connectionQueueLength: 0"
     },
     "execution_count": 1,
     "metadata": {}
    },
    {
     "output_type": "execute_result",
     "data": {
      "text/plain": "totalTlsHandshakes: 0"
     },
     "execution_count": 1,
     "metadata": {}
    },
    {
     "output_type": "execute_result",
     "data": {
      "text/plain": "currentTlsHandshakes: 0"
     },
     "execution_count": 1,
     "metadata": {}
    },
    {
     "output_type": "execute_result",
     "data": {
      "text/plain": "failedTlsHandshakes: 0"
     },
     "execution_count": 1,
     "metadata": {}
    },
    {
     "output_type": "execute_result",
     "data": {
      "text/plain": "httpRequestQueueLength: 0"
     },
     "execution_count": 1,
     "metadata": {}
    },
    {
     "output_type": "execute_result",
     "data": {
      "text/plain": "currentUpgradedHttpRequests: 0"
     },
     "execution_count": 1,
     "metadata": {}
    }
   ]
  },
  {
   "cell_type": "code",
   "execution_count": 1,
   "metadata": {},
   "source": [
    "using Microsoft.AspNetCore.Html;\n",
    "object table;\n",
    "if (heap.CanWalkHeap)\n",
    "{\n",
    "    var headers = new List<IHtmlContent>();\n",
    "            var columnNames = new string[] { \"RequestId\", \"HTTP Protocol\", \"Method\", \"Scheme\", \"Endpoint\", \"Address\" };\n",
    "            headers.AddRange(columnNames.Select(c => (IHtmlContent)PocketViewTags.th(c)));\n",
    "    var rows = new List<List<IHtmlContent>>();\n",
    "    foreach (var obj in heap.EnumerateObjects())\n",
    "    {\n",
    "        try {\n",
    "            if (!obj.IsValid || obj.IsNull) continue;\n",
    "            if (obj.Type.Name.Equals(\"Microsoft.AspNetCore.Http.DefaultHttpContext\"))\n",
    "            {\n",
    "                var cells = new List<IHtmlContent>();\n",
    "                var featureCache = obj.ReadObjectField(\"_request\").ReadValueTypeField(\"_features\").ReadValueTypeField(\"Cache\");\n",
    "                var httpRequestFeature = featureCache.ReadObjectField(\"Request\");\n",
    "                cells.Add(PocketViewTags.td(httpRequestFeature.ReadStringField(\"_requestId\")));\n",
    "                cells.Add(PocketViewTags.td(httpRequestFeature.ReadStringField(\"_httpProtocol\")));\n",
    "                cells.Add(PocketViewTags.td(httpRequestFeature.ReadStringField(\"_methodText\")));\n",
    "                cells.Add(PocketViewTags.td(httpRequestFeature.ReadStringField(\"_scheme\")));\n",
    "                cells.Add(PocketViewTags.td(httpRequestFeature.ReadObjectField(\"_endpoint\").ReadStringField(\"<DisplayName>k__BackingField\")));\n",
    "                cells.Add(PocketViewTags.td(obj.Address));\n",
    "\n",
    "                rows.Add(cells);\n",
    "            }\n",
    "        } catch {}\n",
    "        if (rows.Count >30) break;\n",
    "    }\n",
    "    table = PocketViewTags.table(\n",
    "        PocketViewTags.thead(\n",
    "            headers),\n",
    "        PocketViewTags.tbody(\n",
    "            rows.Select(\n",
    "                r => PocketViewTags.tr(r))));\n",
    "}\n",
    "table\n",
    ""
   ],
   "outputs": [
    {
     "output_type": "execute_result",
     "data": {
      "text/html": "<table><thead><th>RequestId</th><th>HTTP Protocol</th><th>Method</th><th>Scheme</th><th>Endpoint</th><th>Address</th></thead><tbody><tr><td>0HM632VUUCL4C:00000002</td><td>HTTP/1.1</td><td>GET</td><td>http</td><td>/ HTTP: GET</td><td><div class=\"dni-plaintext\">2664232610664</div></td></tr><tr><td>0HM632VUUCL3O:00000002</td><td>HTTP/1.1</td><td>GET</td><td>http</td><td>/ HTTP: GET</td><td><div class=\"dni-plaintext\">2664232613864</div></td></tr><tr><td>0HM632VUUCL3P:00000002</td><td>HTTP/1.1</td><td>GET</td><td>http</td><td>/ HTTP: GET</td><td><div class=\"dni-plaintext\">2664232624144</div></td></tr><tr><td>0HM632VUUCL3Q:00000002</td><td>HTTP/1.1</td><td>GET</td><td>http</td><td>/ HTTP: GET</td><td><div class=\"dni-plaintext\">2664232635080</div></td></tr><tr><td>0HM632VUUCL4D:00000002</td><td>HTTP/1.1</td><td>GET</td><td>http</td><td>/ HTTP: GET</td><td><div class=\"dni-plaintext\">2664232653144</div></td></tr><tr><td>0HM632VUUCL4E:00000002</td><td>HTTP/1.1</td><td>GET</td><td>http</td><td>/ HTTP: GET</td><td><div class=\"dni-plaintext\">2664232663424</div></td></tr><tr><td>0HM632VUUCL4F:00000002</td><td>HTTP/1.1</td><td>GET</td><td>http</td><td>/ HTTP: GET</td><td><div class=\"dni-plaintext\">2664232673704</div></td></tr><tr><td>0HM632VUUCL4G:00000002</td><td>HTTP/1.1</td><td>GET</td><td>http</td><td>/ HTTP: GET</td><td><div class=\"dni-plaintext\">2664232687112</div></td></tr><tr><td>0HM632VUUCL4H:00000002</td><td>HTTP/1.1</td><td>GET</td><td>http</td><td>/ HTTP: GET</td><td><div class=\"dni-plaintext\">2664232696736</div></td></tr><tr><td>0HM632VUUCL4R:00000002</td><td>HTTP/1.1</td><td>GET</td><td>http</td><td>/ HTTP: GET</td><td><div class=\"dni-plaintext\">2664232832128</div></td></tr><tr><td>0HM632VUUCL4S:00000002</td><td>HTTP/1.1</td><td>GET</td><td>http</td><td>/ HTTP: GET</td><td><div class=\"dni-plaintext\">2664232838288</div></td></tr><tr><td>0HM632VUUCLBR:00000002</td><td>HTTP/1.1</td><td>GET</td><td>http</td><td>/ HTTP: GET</td><td><div class=\"dni-plaintext\">2664232845872</div></td></tr><tr><td>0HM632VUUCL4T:00000002</td><td>HTTP/1.1</td><td>GET</td><td>http</td><td>/ HTTP: GET</td><td><div class=\"dni-plaintext\">2664232856872</div></td></tr><tr><td>0HM632VUUCL78:00000002</td><td>HTTP/1.1</td><td>GET</td><td>http</td><td>/ HTTP: GET</td><td><div class=\"dni-plaintext\">2664232939392</div></td></tr><tr><td>0HM632VUUCLBS:00000002</td><td>HTTP/1.1</td><td>GET</td><td>http</td><td>/ HTTP: GET</td><td><div class=\"dni-plaintext\">2664232979560</div></td></tr><tr><td>0HM632VUUCLC8:00000002</td><td>HTTP/1.1</td><td>GET</td><td>http</td><td>/ HTTP: GET</td><td><div class=\"dni-plaintext\">2664232986680</div></td></tr><tr><td>0HM632VUUCLC9:00000002</td><td>HTTP/1.1</td><td>GET</td><td>http</td><td>/ HTTP: GET</td><td><div class=\"dni-plaintext\">2664233029112</div></td></tr><tr><td>0HM632VUUCLCA:00000002</td><td>HTTP/1.1</td><td>GET</td><td>http</td><td>/ HTTP: GET</td><td><div class=\"dni-plaintext\">2664233039392</div></td></tr><tr><td>0HM632VUUCLD4:00000002</td><td>HTTP/1.1</td><td>GET</td><td>http</td><td>/ HTTP: GET</td><td><div class=\"dni-plaintext\">2664233163072</div></td></tr><tr><td>0HM632VUUCLD6:00000002</td><td>HTTP/1.1</td><td>GET</td><td>http</td><td>/ HTTP: GET</td><td><div class=\"dni-plaintext\">2664233172696</div></td></tr><tr><td>0HM632VUUCLG4:00000002</td><td>HTTP/1.1</td><td>GET</td><td>http</td><td>/ HTTP: GET</td><td><div class=\"dni-plaintext\">2664233405904</div></td></tr><tr><td>0HM632VUUCLGG:00000002</td><td>HTTP/1.1</td><td>GET</td><td>http</td><td>/ HTTP: GET</td><td><div class=\"dni-plaintext\">2664233434808</div></td></tr><tr><td>0HM632VUUCLGH:00000002</td><td>HTTP/1.1</td><td>GET</td><td>http</td><td>/ HTTP: GET</td><td><div class=\"dni-plaintext\">2664233461648</div></td></tr><tr><td>0HM632VUUCL5E:00000002</td><td>HTTP/1.1</td><td>GET</td><td>http</td><td>/ HTTP: GET</td><td><div class=\"dni-plaintext\">2665306466432</div></td></tr><tr><td>0HM632VUUCL3R:00000002</td><td>HTTP/1.1</td><td>GET</td><td>http</td><td>/ HTTP: GET</td><td><div class=\"dni-plaintext\">2665306469376</div></td></tr><tr><td>0HM632VUUCL3S:00000002</td><td>HTTP/1.1</td><td>GET</td><td>http</td><td>/ HTTP: GET</td><td><div class=\"dni-plaintext\">2665306479000</div></td></tr><tr><td>0HM632VUUCL3T:00000002</td><td>HTTP/1.1</td><td>GET</td><td>http</td><td>/ HTTP: GET</td><td><div class=\"dni-plaintext\">2665306489512</div></td></tr><tr><td>0HM632VUUCL3U:00000002</td><td>HTTP/1.1</td><td>GET</td><td>http</td><td>/ HTTP: GET</td><td><div class=\"dni-plaintext\">2665306499792</div></td></tr><tr><td>0HM632VUUCL3V:00000002</td><td>HTTP/1.1</td><td>GET</td><td>http</td><td>/ HTTP: GET</td><td><div class=\"dni-plaintext\">2665306510096</div></td></tr><tr><td>0HM632VUUCL40:00000002</td><td>HTTP/1.1</td><td>GET</td><td>http</td><td>/ HTTP: GET</td><td><div class=\"dni-plaintext\">2665306520376</div></td></tr><tr><td>0HM632VUUCL41:00000002</td><td>HTTP/1.1</td><td>GET</td><td>http</td><td>/ HTTP: GET</td><td><div class=\"dni-plaintext\">2665306530656</div></td></tr></tbody></table>"
     },
     "execution_count": 1,
     "metadata": {}
    }
   ]
  }
 ],
 "metadata": {
  "kernelspec": {
   "display_name": ".NET (C#)",
   "language": "C#",
   "name": ".net-csharp"
  },
  "language_info": {
   "file_extension": ".cs",
   "mimetype": "text/x-csharp",
   "name": "C#",
   "pygments_lexer": "csharp",
   "version": "8.0"
  }
 },
 "nbformat": 4,
 "nbformat_minor": 4
}