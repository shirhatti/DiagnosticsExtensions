{
 "cells": [
  {
   "cell_type": "code",
   "execution_count": 1,
   "metadata": {},
   "source": [
    "#r \"nuget:Microsoft.Diagnostics.Runtime\""
   ],
   "outputs": []
  },
  {
   "cell_type": "code",
   "execution_count": 1,
   "metadata": {},
   "source": [
    "using Microsoft.Diagnostics.Runtime;\n",
    "using System.Diagnostics;\n",
    "\n",
    "var dataTarget = DataTarget.CreateSnapshotAndAttach(33612);\n",
    "\n",
    "dataTarget"
   ],
   "outputs": [
    {
     "output_type": "execute_result",
     "data": {
      "text/html": "<table><thead><tr><th>DataReader</th><th>CacheOptions</th><th>BinaryLocator</th><th>ClrVersions</th></tr></thead><tbody><tr><td><div class=\"dni-plaintext\">Microsoft.Diagnostics.Runtime.WindowsProcessDataReader</div></td><td><div class=\"dni-plaintext\">Microsoft.Diagnostics.Runtime.CacheOptions</div></td><td><div class=\"dni-plaintext\">Microsoft.Diagnostics.Runtime.Implementation.SymbolServerLocator</div></td><td><div class=\"dni-plaintext\">[ 5.0.220.61120 ]</div></td></tr></tbody></table>"
     },
     "execution_count": 1,
     "metadata": {}
    }
   ]
  },
  {
   "cell_type": "code",
   "execution_count": 1,
   "metadata": {},
   "source": [
    "var runtime = dataTarget.ClrVersions[0].CreateRuntime();\n",
    "\n",
    "runtime.AppDomains"
   ],
   "outputs": [
    {
     "output_type": "execute_result",
     "data": {
      "text/html": "<table><thead><tr><th><i>index</i></th><th>Runtime</th><th>Address</th><th>Id</th><th>Name</th><th>Modules</th><th>ConfigurationFile</th><th>ApplicationBase</th></tr></thead><tbody><tr><td>0</td><td><div class=\"dni-plaintext\">Microsoft.Diagnostics.Runtime.Implementation.ClrmdRuntime</div></td><td><div class=\"dni-plaintext\">2872778419808</div></td><td><div class=\"dni-plaintext\">1</div></td><td><div class=\"dni-plaintext\">clrhost</div></td><td><div class=\"dni-plaintext\">[ C:\\Program Files\\dotnet\\shared\\Microsoft.NETCore.App\\5.0.2\\System.Private.CoreLib.dll, C:\\Users\\shirh\\source\\temp\\webapp\\bin\\Debug\\net5.0\\webapp.dll, C:\\Program Files\\dotnet\\shared\\Microsoft.NETCore.App\\5.0.2\\System.Runtime.dll, C:\\Program Files\\dotnet\\shared\\Microsoft.AspNetCore.App\\5.0.2\\Microsoft.Extensions.Hosting.Abstractions.dll, C:\\Program Files\\dotnet\\shared\\Microsoft.NETCore.App\\5.0.2\\netstandard.dll, C:\\Program Files\\dotnet\\shared\\Microsoft.AspNetCore.App\\5.0.2\\Microsoft.Extensions.Hosting.dll, C:\\Program Files\\dotnet\\shared\\Microsoft.AspNetCore.App\\5.0.2\\Microsoft.AspNetCore.Hosting.Abstractions.dll, C:\\Program Files\\dotnet\\shared\\Microsoft.AspNetCore.App\\5.0.2\\Microsoft.AspNetCore.dll, C:\\Program Files\\dotnet\\shared\\Microsoft.AspNetCore.App\\5.0.2\\Microsoft.Extensions.Configuration.Abstractions.dll, C:\\Program Files\\dotnet\\shared\\Microsoft.AspNetCore.App\\5.0.2\\Microsoft.Extensions.DependencyInjection.Abstractions.dll, C:\\Program Files\\dotnet\\shared\\Microsoft.AspNetCore.App\\5.0.2\\Microsoft.Extensions.DependencyInjection.dll, C:\\Program Files\\dotnet\\shared\\Microsoft.AspNetCore.App\\5.0.2\\Microsoft.Extensions.Logging.dll, C:\\Program Files\\dotnet\\shared\\Microsoft.NETCore.App\\5.0.2\\System.Collections.dll, C:\\Program Files\\dotnet\\shared\\Microsoft.NETCore.App\\5.0.2\\System.ComponentModel.dll, C:\\Program Files\\dotnet\\shared\\Microsoft.NETCore.App\\5.0.2\\System.IO.FileSystem.dll, C:\\Program Files\\dotnet\\shared\\Microsoft.AspNetCore.App\\5.0.2\\Microsoft.AspNetCore.Hosting.dll, C:\\Program Files\\dotnet\\shared\\Microsoft.AspNetCore.App\\5.0.2\\Microsoft.Extensions.Configuration.dll, C:\\Program Files\\dotnet\\shared\\Microsoft.AspNetCore.App\\5.0.2\\Microsoft.Extensions.Configuration.EnvironmentVariables.dll, C:\\Program Files\\dotnet\\shared\\Microsoft.AspNetCore.App\\5.0.2\\Microsoft.Extensions.Primitives.dll, C:\\Program Files\\dotnet\\shared\\Microsoft.NETCore.App\\5.0.2\\System.Threading.dll ... (82 more) ]</div></td><td><div class=\"dni-plaintext\">&lt;null&gt;</div></td><td><div class=\"dni-plaintext\">&lt;null&gt;</div></td></tr></tbody></table>"
     },
     "execution_count": 1,
     "metadata": {}
    }
   ]
  },
  {
   "cell_type": "code",
   "execution_count": 1,
   "metadata": {},
   "source": [
    "runtime.Threads"
   ],
   "outputs": [
    {
     "output_type": "execute_result",
     "data": {
      "text/html": "<table><thead><tr><th><i>index</i></th><th>Runtime</th><th>Address</th><th>IsFinalizer</th><th>GCMode</th><th>OSThreadId</th><th>ManagedThreadId</th><th>CurrentAppDomain</th><th>LockCount</th><th>StackBase</th><th>StackLimit</th><th>CurrentException</th><th>IsAborted</th><th>IsGCSuspendPending</th><th>IsUserSuspended</th><th>IsDebugSuspended</th><th>IsBackground</th><th>IsUnstarted</th><th>IsCoInitialized</th><th>IsSTA</th><th>IsMTA</th><th>..</th></tr></thead><tbody><tr><td>0</td><td><div class=\"dni-plaintext\">Microsoft.Diagnostics.Runtime.Implementation.ClrmdRuntime</div></td><td><div class=\"dni-plaintext\">2872778451536</div></td><td><div class=\"dni-plaintext\">False</div></td><td><span>Preemptive</span></td><td><div class=\"dni-plaintext\">36144</div></td><td><div class=\"dni-plaintext\">1</div></td><td><div class=\"dni-plaintext\">clrhost</div></td><td><div class=\"dni-plaintext\">4294967295</div></td><td><div class=\"dni-plaintext\">846271610880</div></td><td><div class=\"dni-plaintext\">846271537152</div></td><td><div class=\"dni-plaintext\">&lt;null&gt;</div></td><td><div class=\"dni-plaintext\">False</div></td><td><div class=\"dni-plaintext\">False</div></td><td><div class=\"dni-plaintext\">False</div></td><td><div class=\"dni-plaintext\">False</div></td><td><div class=\"dni-plaintext\">False</div></td><td><div class=\"dni-plaintext\">False</div></td><td><div class=\"dni-plaintext\">True</div></td><td><div class=\"dni-plaintext\">False</div></td><td><div class=\"dni-plaintext\">True</div></td></tr><tr><td>1</td><td><div class=\"dni-plaintext\">Microsoft.Diagnostics.Runtime.Implementation.ClrmdRuntime</div></td><td><div class=\"dni-plaintext\">2892306481360</div></td><td><div class=\"dni-plaintext\">True</div></td><td><span>Preemptive</span></td><td><div class=\"dni-plaintext\">17256</div></td><td><div class=\"dni-plaintext\">2</div></td><td><div class=\"dni-plaintext\">clrhost</div></td><td><div class=\"dni-plaintext\">4294967295</div></td><td><div class=\"dni-plaintext\">846287339520</div></td><td><div class=\"dni-plaintext\">846287331328</div></td><td><div class=\"dni-plaintext\">&lt;null&gt;</div></td><td><div class=\"dni-plaintext\">False</div></td><td><div class=\"dni-plaintext\">False</div></td><td><div class=\"dni-plaintext\">False</div></td><td><div class=\"dni-plaintext\">False</div></td><td><div class=\"dni-plaintext\">True</div></td><td><div class=\"dni-plaintext\">False</div></td><td><div class=\"dni-plaintext\">True</div></td><td><div class=\"dni-plaintext\">False</div></td><td><div class=\"dni-plaintext\">True</div></td></tr><tr><td>2</td><td><div class=\"dni-plaintext\">Microsoft.Diagnostics.Runtime.Implementation.ClrmdRuntime</div></td><td><div class=\"dni-plaintext\">2892306487728</div></td><td><div class=\"dni-plaintext\">False</div></td><td><span>Preemptive</span></td><td><div class=\"dni-plaintext\">20344</div></td><td><div class=\"dni-plaintext\">3</div></td><td><div class=\"dni-plaintext\">clrhost</div></td><td><div class=\"dni-plaintext\">4294967295</div></td><td><div class=\"dni-plaintext\">846267744256</div></td><td><div class=\"dni-plaintext\">846267731968</div></td><td><div class=\"dni-plaintext\">&lt;null&gt;</div></td><td><div class=\"dni-plaintext\">False</div></td><td><div class=\"dni-plaintext\">False</div></td><td><div class=\"dni-plaintext\">False</div></td><td><div class=\"dni-plaintext\">False</div></td><td><div class=\"dni-plaintext\">True</div></td><td><div class=\"dni-plaintext\">False</div></td><td><div class=\"dni-plaintext\">True</div></td><td><div class=\"dni-plaintext\">False</div></td><td><div class=\"dni-plaintext\">True</div></td></tr><tr><td>3</td><td><div class=\"dni-plaintext\">Microsoft.Diagnostics.Runtime.Implementation.ClrmdRuntime</div></td><td><div class=\"dni-plaintext\">2892307430880</div></td><td><div class=\"dni-plaintext\">False</div></td><td><span>Preemptive</span></td><td><div class=\"dni-plaintext\">29716</div></td><td><div class=\"dni-plaintext\">4</div></td><td><div class=\"dni-plaintext\">clrhost</div></td><td><div class=\"dni-plaintext\">4294967295</div></td><td><div class=\"dni-plaintext\">846288912384</div></td><td><div class=\"dni-plaintext\">846288867328</div></td><td><div class=\"dni-plaintext\">&lt;null&gt;</div></td><td><div class=\"dni-plaintext\">False</div></td><td><div class=\"dni-plaintext\">False</div></td><td><div class=\"dni-plaintext\">False</div></td><td><div class=\"dni-plaintext\">False</div></td><td><div class=\"dni-plaintext\">True</div></td><td><div class=\"dni-plaintext\">False</div></td><td><div class=\"dni-plaintext\">False</div></td><td><div class=\"dni-plaintext\">False</div></td><td><div class=\"dni-plaintext\">True</div></td></tr><tr><td>4</td><td><div class=\"dni-plaintext\">Microsoft.Diagnostics.Runtime.Implementation.ClrmdRuntime</div></td><td><div class=\"dni-plaintext\">2892307860864</div></td><td><div class=\"dni-plaintext\">False</div></td><td><span>Preemptive</span></td><td><div class=\"dni-plaintext\">36596</div></td><td><div class=\"dni-plaintext\">5</div></td><td><div class=\"dni-plaintext\">clrhost</div></td><td><div class=\"dni-plaintext\">4294967295</div></td><td><div class=\"dni-plaintext\">846290485248</div></td><td><div class=\"dni-plaintext\">846290448384</div></td><td><div class=\"dni-plaintext\">&lt;null&gt;</div></td><td><div class=\"dni-plaintext\">False</div></td><td><div class=\"dni-plaintext\">False</div></td><td><div class=\"dni-plaintext\">False</div></td><td><div class=\"dni-plaintext\">False</div></td><td><div class=\"dni-plaintext\">True</div></td><td><div class=\"dni-plaintext\">False</div></td><td><div class=\"dni-plaintext\">True</div></td><td><div class=\"dni-plaintext\">False</div></td><td><div class=\"dni-plaintext\">True</div></td></tr><tr><td>5</td><td><div class=\"dni-plaintext\">Microsoft.Diagnostics.Runtime.Implementation.ClrmdRuntime</div></td><td><div class=\"dni-plaintext\">2892308584656</div></td><td><div class=\"dni-plaintext\">False</div></td><td><span>Preemptive</span></td><td><div class=\"dni-plaintext\">24560</div></td><td><div class=\"dni-plaintext\">6</div></td><td><div class=\"dni-plaintext\">clrhost</div></td><td><div class=\"dni-plaintext\">4294967295</div></td><td><div class=\"dni-plaintext\">846292058112</div></td><td><div class=\"dni-plaintext\">846292008960</div></td><td><div class=\"dni-plaintext\">&lt;null&gt;</div></td><td><div class=\"dni-plaintext\">False</div></td><td><div class=\"dni-plaintext\">False</div></td><td><div class=\"dni-plaintext\">False</div></td><td><div class=\"dni-plaintext\">False</div></td><td><div class=\"dni-plaintext\">True</div></td><td><div class=\"dni-plaintext\">False</div></td><td><div class=\"dni-plaintext\">False</div></td><td><div class=\"dni-plaintext\">False</div></td><td><div class=\"dni-plaintext\">True</div></td></tr><tr><td>6</td><td><div class=\"dni-plaintext\">Microsoft.Diagnostics.Runtime.Implementation.ClrmdRuntime</div></td><td><div class=\"dni-plaintext\">2892308590864</div></td><td><div class=\"dni-plaintext\">False</div></td><td><span>Preemptive</span></td><td><div class=\"dni-plaintext\">37660</div></td><td><div class=\"dni-plaintext\">7</div></td><td><div class=\"dni-plaintext\">clrhost</div></td><td><div class=\"dni-plaintext\">4294967295</div></td><td><div class=\"dni-plaintext\">846297038848</div></td><td><div class=\"dni-plaintext\">846296997888</div></td><td><div class=\"dni-plaintext\">&lt;null&gt;</div></td><td><div class=\"dni-plaintext\">False</div></td><td><div class=\"dni-plaintext\">False</div></td><td><div class=\"dni-plaintext\">False</div></td><td><div class=\"dni-plaintext\">False</div></td><td><div class=\"dni-plaintext\">True</div></td><td><div class=\"dni-plaintext\">False</div></td><td><div class=\"dni-plaintext\">True</div></td><td><div class=\"dni-plaintext\">False</div></td><td><div class=\"dni-plaintext\">True</div></td></tr><tr><td>7</td><td><div class=\"dni-plaintext\">Microsoft.Diagnostics.Runtime.Implementation.ClrmdRuntime</div></td><td><div class=\"dni-plaintext\">2892308586208</div></td><td><div class=\"dni-plaintext\">False</div></td><td><span>Preemptive</span></td><td><div class=\"dni-plaintext\">33480</div></td><td><div class=\"dni-plaintext\">8</div></td><td><div class=\"dni-plaintext\">clrhost</div></td><td><div class=\"dni-plaintext\">4294967295</div></td><td><div class=\"dni-plaintext\">846293893120</div></td><td><div class=\"dni-plaintext\">846293848064</div></td><td><div class=\"dni-plaintext\">&lt;null&gt;</div></td><td><div class=\"dni-plaintext\">False</div></td><td><div class=\"dni-plaintext\">False</div></td><td><div class=\"dni-plaintext\">False</div></td><td><div class=\"dni-plaintext\">False</div></td><td><div class=\"dni-plaintext\">True</div></td><td><div class=\"dni-plaintext\">False</div></td><td><div class=\"dni-plaintext\">False</div></td><td><div class=\"dni-plaintext\">False</div></td><td><div class=\"dni-plaintext\">True</div></td></tr><tr><td>8</td><td><div class=\"dni-plaintext\">Microsoft.Diagnostics.Runtime.Implementation.ClrmdRuntime</div></td><td><div class=\"dni-plaintext\">2892308570688</div></td><td><div class=\"dni-plaintext\">False</div></td><td><span>Preemptive</span></td><td><div class=\"dni-plaintext\">18028</div></td><td><div class=\"dni-plaintext\">9</div></td><td><div class=\"dni-plaintext\">clrhost</div></td><td><div class=\"dni-plaintext\">4294967295</div></td><td><div class=\"dni-plaintext\">846295465984</div></td><td><div class=\"dni-plaintext\">846295420928</div></td><td><div class=\"dni-plaintext\">&lt;null&gt;</div></td><td><div class=\"dni-plaintext\">False</div></td><td><div class=\"dni-plaintext\">False</div></td><td><div class=\"dni-plaintext\">False</div></td><td><div class=\"dni-plaintext\">False</div></td><td><div class=\"dni-plaintext\">True</div></td><td><div class=\"dni-plaintext\">False</div></td><td><div class=\"dni-plaintext\">False</div></td><td><div class=\"dni-plaintext\">False</div></td><td><div class=\"dni-plaintext\">True</div></td></tr><tr><td>9</td><td><div class=\"dni-plaintext\">Microsoft.Diagnostics.Runtime.Implementation.ClrmdRuntime</div></td><td><div class=\"dni-plaintext\">2892309329600</div></td><td><div class=\"dni-plaintext\">False</div></td><td><span>Preemptive</span></td><td><div class=\"dni-plaintext\">37608</div></td><td><div class=\"dni-plaintext\">10</div></td><td><div class=\"dni-plaintext\">clrhost</div></td><td><div class=\"dni-plaintext\">4294967295</div></td><td><div class=\"dni-plaintext\">846300184576</div></td><td><div class=\"dni-plaintext\">846300131328</div></td><td><div class=\"dni-plaintext\">&lt;null&gt;</div></td><td><div class=\"dni-plaintext\">False</div></td><td><div class=\"dni-plaintext\">False</div></td><td><div class=\"dni-plaintext\">False</div></td><td><div class=\"dni-plaintext\">False</div></td><td><div class=\"dni-plaintext\">True</div></td><td><div class=\"dni-plaintext\">False</div></td><td><div class=\"dni-plaintext\">False</div></td><td><div class=\"dni-plaintext\">False</div></td><td><div class=\"dni-plaintext\">True</div></td></tr><tr><td>10</td><td><div class=\"dni-plaintext\">Microsoft.Diagnostics.Runtime.Implementation.ClrmdRuntime</div></td><td><div class=\"dni-plaintext\">2892309340464</div></td><td><div class=\"dni-plaintext\">False</div></td><td><span>Preemptive</span></td><td><div class=\"dni-plaintext\">29712</div></td><td><div class=\"dni-plaintext\">11</div></td><td><div class=\"dni-plaintext\">clrhost</div></td><td><div class=\"dni-plaintext\">4294967295</div></td><td><div class=\"dni-plaintext\">846301757440</div></td><td><div class=\"dni-plaintext\">846301712384</div></td><td><div class=\"dni-plaintext\">&lt;null&gt;</div></td><td><div class=\"dni-plaintext\">False</div></td><td><div class=\"dni-plaintext\">False</div></td><td><div class=\"dni-plaintext\">False</div></td><td><div class=\"dni-plaintext\">False</div></td><td><div class=\"dni-plaintext\">True</div></td><td><div class=\"dni-plaintext\">False</div></td><td><div class=\"dni-plaintext\">False</div></td><td><div class=\"dni-plaintext\">False</div></td><td><div class=\"dni-plaintext\">True</div></td></tr><tr><td>11</td><td><div class=\"dni-plaintext\">Microsoft.Diagnostics.Runtime.Implementation.ClrmdRuntime</div></td><td><div class=\"dni-plaintext\">2892309335808</div></td><td><div class=\"dni-plaintext\">False</div></td><td><span>Preemptive</span></td><td><div class=\"dni-plaintext\">33336</div></td><td><div class=\"dni-plaintext\">12</div></td><td><div class=\"dni-plaintext\">clrhost</div></td><td><div class=\"dni-plaintext\">4294967295</div></td><td><div class=\"dni-plaintext\">846303330304</div></td><td><div class=\"dni-plaintext\">846303285248</div></td><td><div class=\"dni-plaintext\">&lt;null&gt;</div></td><td><div class=\"dni-plaintext\">False</div></td><td><div class=\"dni-plaintext\">False</div></td><td><div class=\"dni-plaintext\">False</div></td><td><div class=\"dni-plaintext\">False</div></td><td><div class=\"dni-plaintext\">True</div></td><td><div class=\"dni-plaintext\">False</div></td><td><div class=\"dni-plaintext\">False</div></td><td><div class=\"dni-plaintext\">False</div></td><td><div class=\"dni-plaintext\">True</div></td></tr><tr><td>12</td><td><div class=\"dni-plaintext\">Microsoft.Diagnostics.Runtime.Implementation.ClrmdRuntime</div></td><td><div class=\"dni-plaintext\">2892309326496</div></td><td><div class=\"dni-plaintext\">False</div></td><td><span>Preemptive</span></td><td><div class=\"dni-plaintext\">31260</div></td><td><div class=\"dni-plaintext\">13</div></td><td><div class=\"dni-plaintext\">clrhost</div></td><td><div class=\"dni-plaintext\">4294967295</div></td><td><div class=\"dni-plaintext\">846304903168</div></td><td><div class=\"dni-plaintext\">846304866304</div></td><td><div class=\"dni-plaintext\">&lt;null&gt;</div></td><td><div class=\"dni-plaintext\">False</div></td><td><div class=\"dni-plaintext\">False</div></td><td><div class=\"dni-plaintext\">False</div></td><td><div class=\"dni-plaintext\">False</div></td><td><div class=\"dni-plaintext\">True</div></td><td><div class=\"dni-plaintext\">False</div></td><td><div class=\"dni-plaintext\">False</div></td><td><div class=\"dni-plaintext\">False</div></td><td><div class=\"dni-plaintext\">True</div></td></tr><tr><td>13</td><td><div class=\"dni-plaintext\">Microsoft.Diagnostics.Runtime.Implementation.ClrmdRuntime</div></td><td><div class=\"dni-plaintext\">2892309342016</div></td><td><div class=\"dni-plaintext\">False</div></td><td><span>Preemptive</span></td><td><div class=\"dni-plaintext\">19640</div></td><td><div class=\"dni-plaintext\">15</div></td><td><div class=\"dni-plaintext\">clrhost</div></td><td><div class=\"dni-plaintext\">4294967295</div></td><td><div class=\"dni-plaintext\">846308048896</div></td><td><div class=\"dni-plaintext\">846307995648</div></td><td><div class=\"dni-plaintext\">&lt;null&gt;</div></td><td><div class=\"dni-plaintext\">False</div></td><td><div class=\"dni-plaintext\">False</div></td><td><div class=\"dni-plaintext\">False</div></td><td><div class=\"dni-plaintext\">False</div></td><td><div class=\"dni-plaintext\">True</div></td><td><div class=\"dni-plaintext\">False</div></td><td><div class=\"dni-plaintext\">False</div></td><td><div class=\"dni-plaintext\">False</div></td><td><div class=\"dni-plaintext\">True</div></td></tr><tr><td>14</td><td><div class=\"dni-plaintext\">Microsoft.Diagnostics.Runtime.Implementation.ClrmdRuntime</div></td><td><div class=\"dni-plaintext\">2892309315632</div></td><td><div class=\"dni-plaintext\">False</div></td><td><span>Preemptive</span></td><td><div class=\"dni-plaintext\">36252</div></td><td><div class=\"dni-plaintext\">16</div></td><td><div class=\"dni-plaintext\">clrhost</div></td><td><div class=\"dni-plaintext\">4294967295</div></td><td><div class=\"dni-plaintext\">846309621760</div></td><td><div class=\"dni-plaintext\">846309580800</div></td><td><div class=\"dni-plaintext\">&lt;null&gt;</div></td><td><div class=\"dni-plaintext\">False</div></td><td><div class=\"dni-plaintext\">False</div></td><td><div class=\"dni-plaintext\">False</div></td><td><div class=\"dni-plaintext\">False</div></td><td><div class=\"dni-plaintext\">True</div></td><td><div class=\"dni-plaintext\">False</div></td><td><div class=\"dni-plaintext\">False</div></td><td><div class=\"dni-plaintext\">False</div></td><td><div class=\"dni-plaintext\">True</div></td></tr><tr><td>15</td><td><div class=\"dni-plaintext\">Microsoft.Diagnostics.Runtime.Implementation.ClrmdRuntime</div></td><td><div class=\"dni-plaintext\">2892309323392</div></td><td><div class=\"dni-plaintext\">False</div></td><td><span>Preemptive</span></td><td><div class=\"dni-plaintext\">37652</div></td><td><div class=\"dni-plaintext\">17</div></td><td><div class=\"dni-plaintext\">clrhost</div></td><td><div class=\"dni-plaintext\">4294967295</div></td><td><div class=\"dni-plaintext\">846311194624</div></td><td><div class=\"dni-plaintext\">846311157760</div></td><td><div class=\"dni-plaintext\">&lt;null&gt;</div></td><td><div class=\"dni-plaintext\">False</div></td><td><div class=\"dni-plaintext\">False</div></td><td><div class=\"dni-plaintext\">False</div></td><td><div class=\"dni-plaintext\">False</div></td><td><div class=\"dni-plaintext\">True</div></td><td><div class=\"dni-plaintext\">False</div></td><td><div class=\"dni-plaintext\">False</div></td><td><div class=\"dni-plaintext\">False</div></td><td><div class=\"dni-plaintext\">True</div></td></tr><tr><td>16</td><td><div class=\"dni-plaintext\">Microsoft.Diagnostics.Runtime.Implementation.ClrmdRuntime</div></td><td><div class=\"dni-plaintext\">2892309328048</div></td><td><div class=\"dni-plaintext\">False</div></td><td><span>Preemptive</span></td><td><div class=\"dni-plaintext\">13828</div></td><td><div class=\"dni-plaintext\">18</div></td><td><div class=\"dni-plaintext\">clrhost</div></td><td><div class=\"dni-plaintext\">4294967295</div></td><td><div class=\"dni-plaintext\">846312767488</div></td><td><div class=\"dni-plaintext\">846312706048</div></td><td><div class=\"dni-plaintext\">&lt;null&gt;</div></td><td><div class=\"dni-plaintext\">False</div></td><td><div class=\"dni-plaintext\">False</div></td><td><div class=\"dni-plaintext\">False</div></td><td><div class=\"dni-plaintext\">False</div></td><td><div class=\"dni-plaintext\">True</div></td><td><div class=\"dni-plaintext\">False</div></td><td><div class=\"dni-plaintext\">False</div></td><td><div class=\"dni-plaintext\">False</div></td><td><div class=\"dni-plaintext\">True</div></td></tr><tr><td>17</td><td><div class=\"dni-plaintext\">Microsoft.Diagnostics.Runtime.Implementation.ClrmdRuntime</div></td><td><div class=\"dni-plaintext\">2892309320288</div></td><td><div class=\"dni-plaintext\">False</div></td><td><span>Preemptive</span></td><td><div class=\"dni-plaintext\">28968</div></td><td><div class=\"dni-plaintext\">19</div></td><td><div class=\"dni-plaintext\">clrhost</div></td><td><div class=\"dni-plaintext\">4294967295</div></td><td><div class=\"dni-plaintext\">846314340352</div></td><td><div class=\"dni-plaintext\">846314287104</div></td><td><div class=\"dni-plaintext\">&lt;null&gt;</div></td><td><div class=\"dni-plaintext\">False</div></td><td><div class=\"dni-plaintext\">False</div></td><td><div class=\"dni-plaintext\">False</div></td><td><div class=\"dni-plaintext\">False</div></td><td><div class=\"dni-plaintext\">True</div></td><td><div class=\"dni-plaintext\">False</div></td><td><div class=\"dni-plaintext\">False</div></td><td><div class=\"dni-plaintext\">False</div></td><td><div class=\"dni-plaintext\">True</div></td></tr><tr><td>18</td><td><div class=\"dni-plaintext\">Microsoft.Diagnostics.Runtime.Implementation.ClrmdRuntime</div></td><td><div class=\"dni-plaintext\">2892309324944</div></td><td><div class=\"dni-plaintext\">False</div></td><td><span>Preemptive</span></td><td><div class=\"dni-plaintext\">37316</div></td><td><div class=\"dni-plaintext\">20</div></td><td><div class=\"dni-plaintext\">clrhost</div></td><td><div class=\"dni-plaintext\">4294967295</div></td><td><div class=\"dni-plaintext\">846315913216</div></td><td><div class=\"dni-plaintext\">846315864064</div></td><td><div class=\"dni-plaintext\">&lt;null&gt;</div></td><td><div class=\"dni-plaintext\">False</div></td><td><div class=\"dni-plaintext\">False</div></td><td><div class=\"dni-plaintext\">False</div></td><td><div class=\"dni-plaintext\">False</div></td><td><div class=\"dni-plaintext\">True</div></td><td><div class=\"dni-plaintext\">False</div></td><td><div class=\"dni-plaintext\">False</div></td><td><div class=\"dni-plaintext\">False</div></td><td><div class=\"dni-plaintext\">True</div></td></tr><tr><td>19</td><td><div class=\"dni-plaintext\">Microsoft.Diagnostics.Runtime.Implementation.ClrmdRuntime</div></td><td><div class=\"dni-plaintext\">2892309332704</div></td><td><div class=\"dni-plaintext\">False</div></td><td><span>Preemptive</span></td><td><div class=\"dni-plaintext\">34524</div></td><td><div class=\"dni-plaintext\">21</div></td><td><div class=\"dni-plaintext\">clrhost</div></td><td><div class=\"dni-plaintext\">4294967295</div></td><td><div class=\"dni-plaintext\">846317486080</div></td><td><div class=\"dni-plaintext\">846317424640</div></td><td><div class=\"dni-plaintext\">&lt;null&gt;</div></td><td><div class=\"dni-plaintext\">False</div></td><td><div class=\"dni-plaintext\">False</div></td><td><div class=\"dni-plaintext\">False</div></td><td><div class=\"dni-plaintext\">False</div></td><td><div class=\"dni-plaintext\">True</div></td><td><div class=\"dni-plaintext\">False</div></td><td><div class=\"dni-plaintext\">False</div></td><td><div class=\"dni-plaintext\">False</div></td><td><div class=\"dni-plaintext\">True</div></td></tr><tr><td colspan=\"22\">(24 more)</td></tr></tbody></table>"
     },
     "execution_count": 1,
     "metadata": {}
    }
   ]
  },
  {
   "cell_type": "code",
   "execution_count": 1,
   "metadata": {},
   "source": [
    "var heap = runtime.Heap;\n",
    "var appDomain = runtime.AppDomains[0];\n",
    "\n",
    "private ClrModule GetModuleByName(ClrRuntime runtime, string name)\n",
    "{\n",
    "    var modules = runtime.AppDomains[0].Modules;\n",
    "    foreach (ClrModule module in modules)\n",
    "    {\n",
    "        if (module.AssemblyName.Contains(name))\n",
    "        {\n",
    "            return module;\n",
    "        }\n",
    "    }\n",
    "\n",
    "    return null;\n",
    "}"
   ],
   "outputs": []
  },
  {
   "cell_type": "code",
   "execution_count": 1,
   "metadata": {},
   "source": [
    "var hostingEventSourceType = GetModuleByName(runtime, \"Microsoft.AspNetCore.Hosting.dll\").GetTypeByName(\"Microsoft.AspNetCore.Hosting.HostingEventSource\");\n",
    "var log = hostingEventSourceType.GetStaticFieldByName(\"Log\").ReadObject(appDomain);\n",
    "\n",
    "foreach (var counter in log.Type.Fields.Where(f => f.IsValueType && f.ElementType.Equals(ClrElementType.Int64) && !f.IsInternal))\n",
    "{\n",
    "    display($\"{counter.Name}: {log.ReadValueTypeField(counter.Name).ReadField<int>(\"m_value\")}\");\n",
    "}\n",
    ""
   ],
   "outputs": [
    {
     "output_type": "execute_result",
     "data": {
      "text/plain": "_totalRequests: 0"
     },
     "execution_count": 1,
     "metadata": {}
    },
    {
     "output_type": "execute_result",
     "data": {
      "text/plain": "_currentRequests: 0"
     },
     "execution_count": 1,
     "metadata": {}
    },
    {
     "output_type": "execute_result",
     "data": {
      "text/plain": "_failedRequests: 0"
     },
     "execution_count": 1,
     "metadata": {}
    }
   ]
  },
  {
   "cell_type": "code",
   "execution_count": 1,
   "metadata": {},
   "source": [
    "var kestrelEventSourceType = GetModuleByName(runtime, \"Microsoft.AspNetCore.Server.Kestrel.Core.dll\").GetTypeByName(\"Microsoft.AspNetCore.Server.Kestrel.Core.Internal.Infrastructure.KestrelEventSource\");\n",
    "var log = kestrelEventSourceType.GetStaticFieldByName(\"Log\").ReadObject(appDomain);\n",
    "\n",
    "foreach (var counter in log.Type.Fields.Where(f => f.IsValueType && f.ElementType.Equals(ClrElementType.Int64) && !f.IsInternal))\n",
    "{\n",
    "    display($\"{counter.Name}: {log.ReadValueTypeField(counter.Name).ReadField<int>(\"m_value\")}\");\n",
    "}\n",
    ""
   ],
   "outputs": [
    {
     "output_type": "execute_result",
     "data": {
      "text/plain": "_totalConnections: 256"
     },
     "execution_count": 1,
     "metadata": {}
    },
    {
     "output_type": "execute_result",
     "data": {
      "text/plain": "_currentConnections: 256"
     },
     "execution_count": 1,
     "metadata": {}
    },
    {
     "output_type": "execute_result",
     "data": {
      "text/plain": "_connectionQueueLength: 0"
     },
     "execution_count": 1,
     "metadata": {}
    },
    {
     "output_type": "execute_result",
     "data": {
      "text/plain": "_totalTlsHandshakes: 0"
     },
     "execution_count": 1,
     "metadata": {}
    },
    {
     "output_type": "execute_result",
     "data": {
      "text/plain": "_currentTlsHandshakes: 0"
     },
     "execution_count": 1,
     "metadata": {}
    },
    {
     "output_type": "execute_result",
     "data": {
      "text/plain": "_failedTlsHandshakes: 0"
     },
     "execution_count": 1,
     "metadata": {}
    },
    {
     "output_type": "execute_result",
     "data": {
      "text/plain": "_httpRequestQueueLength: 0"
     },
     "execution_count": 1,
     "metadata": {}
    },
    {
     "output_type": "execute_result",
     "data": {
      "text/plain": "_currentUpgradedHttpRequests: 0"
     },
     "execution_count": 1,
     "metadata": {}
    }
   ]
  },
  {
   "cell_type": "code",
   "execution_count": 1,
   "metadata": {},
   "source": [
    "using Microsoft.AspNetCore.Html;\n",
    "object table;\n",
    "if (heap.CanWalkHeap)\n",
    "{\n",
    "    var headers = new List<IHtmlContent>();\n",
    "            var columnNames = new string[] { \"RequestId\", \"HTTP Protocol\", \"Method\", \"Scheme\", \"Endpoint\", \"Address\" };\n",
    "            headers.AddRange(columnNames.Select(c => (IHtmlContent)PocketViewTags.th(c)));\n",
    "    var rows = new List<List<IHtmlContent>>();\n",
    "    foreach (var obj in heap.EnumerateObjects())\n",
    "    {\n",
    "        if (!obj.IsValid || obj.IsNull) continue;\n",
    "        if (obj.Type.Name.Equals(\"Microsoft.AspNetCore.Http.DefaultHttpContext\"))\n",
    "        {\n",
    "            // If the feature collection is null, the request is not in-flight\n",
    "            if (obj.ReadValueTypeField(\"_features\").ReadObjectField(\"<Collection>k__BackingField\").IsNull) continue;\n",
    "            var cells = new List<IHtmlContent>();\n",
    "            var featureCache = obj.ReadObjectField(\"_request\").ReadValueTypeField(\"_features\").ReadValueTypeField(\"Cache\");\n",
    "            var httpRequestFeature = featureCache.ReadObjectField(\"Request\");\n",
    "            cells.Add(PocketViewTags.td(httpRequestFeature.ReadStringField(\"_requestId\")));\n",
    "            cells.Add(PocketViewTags.td(httpRequestFeature.ReadStringField(\"_httpProtocol\")));\n",
    "            cells.Add(PocketViewTags.td(httpRequestFeature.ReadStringField(\"_methodText\")));\n",
    "            cells.Add(PocketViewTags.td(httpRequestFeature.ReadStringField(\"_scheme\")));\n",
    "            cells.Add(PocketViewTags.td(httpRequestFeature.ReadObjectField(\"_endpoint\").ReadStringField(\"<DisplayName>k__BackingField\")));\n",
    "            cells.Add(PocketViewTags.td(obj.Address));\n",
    "            rows.Add(cells);\n",
    "        }\n",
    "        if (rows.Count >30) break;\n",
    "    }\n",
    "    table = PocketViewTags.table(\n",
    "        PocketViewTags.thead(\n",
    "            headers),\n",
    "        PocketViewTags.tbody(\n",
    "            rows.Select(\n",
    "                r => PocketViewTags.tr(r))));\n",
    "}\n",
    "\n",
    "table"
   ],
   "outputs": [
    {
     "output_type": "execute_result",
     "data": {
      "text/html": "<table><thead><th>RequestId</th><th>HTTP Protocol</th><th>Method</th><th>Scheme</th><th>Endpoint</th><th>Address</th></thead><tbody><tr><td>0HM63TQJE9EA5:00000024</td><td><div class=\"dni-plaintext\">&lt;null&gt;</div></td><td>GET</td><td>http</td><td>/ HTTP: GET</td><td><div class=\"dni-plaintext\">2877078254664</div></td></tr><tr><td>0HM63TQJE9EA6:00000024</td><td><div class=\"dni-plaintext\">&lt;null&gt;</div></td><td>GET</td><td>http</td><td>/ HTTP: GET</td><td><div class=\"dni-plaintext\">2877078259272</div></td></tr><tr><td>0HM63TQJE9EAN:00000024</td><td><div class=\"dni-plaintext\">&lt;null&gt;</div></td><td>GET</td><td>http</td><td>/ HTTP: GET</td><td><div class=\"dni-plaintext\">2877078269648</div></td></tr><tr><td>0HM63TQJE9EAK:00000024</td><td><div class=\"dni-plaintext\">&lt;null&gt;</div></td><td>GET</td><td>http</td><td>/ HTTP: GET</td><td><div class=\"dni-plaintext\">2877078274520</div></td></tr><tr><td>0HM63TQJE9EAT:00000024</td><td><div class=\"dni-plaintext\">&lt;null&gt;</div></td><td>GET</td><td>http</td><td>/ HTTP: GET</td><td><div class=\"dni-plaintext\">2877078280576</div></td></tr><tr><td>0HM63TQJE9EAR:00000024</td><td><div class=\"dni-plaintext\">&lt;null&gt;</div></td><td>GET</td><td>http</td><td>/ HTTP: GET</td><td><div class=\"dni-plaintext\">2877078284336</div></td></tr><tr><td>0HM63TQJE9EBN:00000024</td><td><div class=\"dni-plaintext\">&lt;null&gt;</div></td><td>GET</td><td>http</td><td>/ HTTP: GET</td><td><div class=\"dni-plaintext\">2877078294960</div></td></tr><tr><td>0HM63TQJE9EB5:00000024</td><td><div class=\"dni-plaintext\">&lt;null&gt;</div></td><td>GET</td><td>http</td><td>/ HTTP: GET</td><td><div class=\"dni-plaintext\">2877078298664</div></td></tr><tr><td>0HM63TQJE9EBD:00000024</td><td><div class=\"dni-plaintext\">&lt;null&gt;</div></td><td>GET</td><td>http</td><td>/ HTTP: GET</td><td><div class=\"dni-plaintext\">2877078304720</div></td></tr><tr><td>0HM63TQJE9EBP:00000024</td><td><div class=\"dni-plaintext\">&lt;null&gt;</div></td><td>GET</td><td>http</td><td>/ HTTP: GET</td><td><div class=\"dni-plaintext\">2877078310800</div></td></tr><tr><td>0HM63TQJE9EC2:00000024</td><td><div class=\"dni-plaintext\">&lt;null&gt;</div></td><td>GET</td><td>http</td><td>/ HTTP: GET</td><td><div class=\"dni-plaintext\">2877078317632</div></td></tr><tr><td>0HM63TQJE9EC4:00000024</td><td><div class=\"dni-plaintext\">&lt;null&gt;</div></td><td>GET</td><td>http</td><td>/ HTTP: GET</td><td><div class=\"dni-plaintext\">2877078325296</div></td></tr><tr><td>0HM63TQJE9EFG:00000024</td><td><div class=\"dni-plaintext\">&lt;null&gt;</div></td><td>GET</td><td>http</td><td>/ HTTP: GET</td><td><div class=\"dni-plaintext\">2877078332536</div></td></tr><tr><td>0HM63TQJE9EFR:00000024</td><td><div class=\"dni-plaintext\">&lt;null&gt;</div></td><td>GET</td><td>http</td><td>/ HTTP: GET</td><td><div class=\"dni-plaintext\">2877078338904</div></td></tr><tr><td>0HM63TQJE9EG4:00000024</td><td><div class=\"dni-plaintext\">&lt;null&gt;</div></td><td>GET</td><td>http</td><td>/ HTTP: GET</td><td><div class=\"dni-plaintext\">2877078345296</div></td></tr><tr><td>0HM63TQJE9EA8:00000024</td><td><div class=\"dni-plaintext\">&lt;null&gt;</div></td><td>GET</td><td>http</td><td>/ HTTP: GET</td><td><div class=\"dni-plaintext\">2878151992320</div></td></tr><tr><td>0HM63TQJE9EAH:00000024</td><td><div class=\"dni-plaintext\">&lt;null&gt;</div></td><td>GET</td><td>http</td><td>/ HTTP: GET</td><td><div class=\"dni-plaintext\">2878151998672</div></td></tr><tr><td>0HM63TQJE9EAP:00000024</td><td><div class=\"dni-plaintext\">&lt;null&gt;</div></td><td>GET</td><td>http</td><td>/ HTTP: GET</td><td><div class=\"dni-plaintext\">2878152004752</div></td></tr><tr><td>0HM63TQJE9EB2:00000024</td><td><div class=\"dni-plaintext\">&lt;null&gt;</div></td><td>GET</td><td>http</td><td>/ HTTP: GET</td><td><div class=\"dni-plaintext\">2878152010832</div></td></tr><tr><td>0HM63TQJE9EBC:00000024</td><td><div class=\"dni-plaintext\">&lt;null&gt;</div></td><td>GET</td><td>http</td><td>/ HTTP: GET</td><td><div class=\"dni-plaintext\">2878152017448</div></td></tr><tr><td>0HM63TQJE9EBM:00000024</td><td><div class=\"dni-plaintext\">&lt;null&gt;</div></td><td>GET</td><td>http</td><td>/ HTTP: GET</td><td><div class=\"dni-plaintext\">2878152023504</div></td></tr><tr><td>0HM63TQJE9EC0:00000024</td><td><div class=\"dni-plaintext\">&lt;null&gt;</div></td><td>GET</td><td>http</td><td>/ HTTP: GET</td><td><div class=\"dni-plaintext\">2878152029640</div></td></tr><tr><td>0HM63TQJE9EA1:00000024</td><td><div class=\"dni-plaintext\">&lt;null&gt;</div></td><td>GET</td><td>http</td><td>/ HTTP: GET</td><td><div class=\"dni-plaintext\">2879225740336</div></td></tr><tr><td>0HM63TQJE9EAE:00000024</td><td><div class=\"dni-plaintext\">&lt;null&gt;</div></td><td>GET</td><td>http</td><td>/ HTTP: GET</td><td><div class=\"dni-plaintext\">2879225747432</div></td></tr><tr><td>0HM63TQJE9EB1:00000024</td><td><div class=\"dni-plaintext\">&lt;null&gt;</div></td><td>GET</td><td>http</td><td>/ HTTP: GET</td><td><div class=\"dni-plaintext\">2879225753512</div></td></tr><tr><td>0HM63TQJE9EB8:00000024</td><td><div class=\"dni-plaintext\">&lt;null&gt;</div></td><td>GET</td><td>http</td><td>/ HTTP: GET</td><td><div class=\"dni-plaintext\">2879225759592</div></td></tr><tr><td>0HM63TQJE9EBI:00000024</td><td><div class=\"dni-plaintext\">&lt;null&gt;</div></td><td>GET</td><td>http</td><td>/ HTTP: GET</td><td><div class=\"dni-plaintext\">2879225765648</div></td></tr><tr><td>0HM63TQJE9EBU:00000024</td><td><div class=\"dni-plaintext\">&lt;null&gt;</div></td><td>GET</td><td>http</td><td>/ HTTP: GET</td><td><div class=\"dni-plaintext\">2879225771728</div></td></tr><tr><td>0HM63TQJE9EC7:00000024</td><td><div class=\"dni-plaintext\">&lt;null&gt;</div></td><td>GET</td><td>http</td><td>/ HTTP: GET</td><td><div class=\"dni-plaintext\">2879225783312</div></td></tr><tr><td>0HM63TQJE9EC8:00000024</td><td><div class=\"dni-plaintext\">&lt;null&gt;</div></td><td>GET</td><td>http</td><td>/ HTTP: GET</td><td><div class=\"dni-plaintext\">2879225789368</div></td></tr><tr><td>0HM63TQJE9EC9:00000024</td><td><div class=\"dni-plaintext\">&lt;null&gt;</div></td><td>GET</td><td>http</td><td>/ HTTP: GET</td><td><div class=\"dni-plaintext\">2879225797752</div></td></tr></tbody></table>"
     },
     "execution_count": 1,
     "metadata": {}
    }
   ]
  }
 ],
 "metadata": {
  "kernelspec": {
   "display_name": ".NET (C#)",
   "language": "C#",
   "name": ".net-csharp"
  },
  "language_info": {
   "file_extension": ".cs",
   "mimetype": "text/x-csharp",
   "name": "C#",
   "pygments_lexer": "csharp",
   "version": "8.0"
  }
 },
 "nbformat": 4,
 "nbformat_minor": 4
}